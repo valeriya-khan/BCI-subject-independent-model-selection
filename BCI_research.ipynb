{
 "cells": [
  {
   "cell_type": "code",
   "execution_count": 12,
   "metadata": {
    "collapsed": false
   },
   "outputs": [],
   "source": [
    "#Author: Valeriya Khan\n",
    "#Date: 10 Feb 2018+\n",
    "\n",
    "#importing requiered libraries\n",
    "import h5py\n",
    "import json\n",
    "import numpy as np\n",
    "from sklearn.model_selection import train_test_split\n",
    "import random as rand\n",
    "\n",
    "subjects = ['1','2','3','4','5','6','7','8']\n",
    "\n",
    "#creating list of data of individual persons\n",
    "data_list= []\n",
    "for subject in subjects:\n",
    "    data = {}\n",
    "    f = h5py.File('subject'+subject+'.mat')\n",
    "    for k, v in f.items():\n",
    "        if k != '#refs#':\n",
    "            for k1,v1 in v.items():\n",
    "                if k1 == 'z':\n",
    "                    data['X'] = v1['X'].value\n",
    "                    data['Y'] = v1['Y'].value\n",
    "    data_list.append(data)\n",
    "\n",
    "#creation of separate lists for input and output arrays\n",
    "X_s = []\n",
    "y_s = []\n",
    "for data in data_list:\n",
    "    X_s.append(np.double(data['X']))\n",
    "    y_s.append(np.double(data['Y']))\n",
    "for i in range(len(X_s)):\n",
    "    X_shape = X_s[i].shape\n",
    "    X_s[i] = np.reshape(X_s[i], (X_shape[0], X_shape[1]*X_shape[2]))\n",
    "for i in range(len(y_s)):\n",
    "    y_s[i] = y_s[i][0]\n"
   ]
  },
  {
   "cell_type": "code",
   "execution_count": 13,
   "metadata": {
    "collapsed": true
   },
   "outputs": [],
   "source": [
    "#for classification purposes outputs should have value 1 or -1\n",
    "for y in y_s:\n",
    "    for i in range(0,y.size):\n",
    "        if (y[i] == 0):\n",
    "            y[i] = -1"
   ]
  },
  {
   "cell_type": "code",
   "execution_count": 14,
   "metadata": {
    "collapsed": true
   },
   "outputs": [],
   "source": [
    "#in order to make learning uniform, all data arrays should have the same size\n",
    "#all data arrays cut off to the size of the smallest array, elements are chosen randomly \n",
    "y_sizes = []\n",
    "for y in y_s:\n",
    "    y_sizes.append(y.size)\n",
    "\n",
    "#y_3 max, y_1 min\n",
    "for j in range(len(y_s)):\n",
    "    tempX = X_s[j]\n",
    "    tempY = y_s[j]\n",
    "    x_min_shape = X_s[np.argmin(y_sizes)].shape\n",
    "    y_min_shape = y_s[np.argmin(y_sizes)].shape\n",
    "    X_s[j] = np.zeros((x_min_shape[0], x_min_shape[1]))\n",
    "    y_s[j] = np.zeros(y_min_shape[0])\n",
    "    coeff = rand.sample(range(y_sizes[j]),min(y_sizes))\n",
    "    for i in range(0, len(coeff)):\n",
    "        X_s[j][i, :] = tempX[coeff[i],:]\n",
    "        y_s[j][i] = tempY[coeff[i]]"
   ]
  },
  {
   "cell_type": "code",
   "execution_count": 15,
   "metadata": {
    "collapsed": true
   },
   "outputs": [],
   "source": [
    "#standardization of features by removing the mean and scaling to unit variance\n",
    "from sklearn import preprocessing\n",
    "\n",
    "for i in range(len(X_s)):\n",
    "    std_scale = preprocessing.StandardScaler().fit(X_s[i])\n",
    "    X_s[i] = std_scale.transform(X_s[i])"
   ]
  },
  {
   "cell_type": "code",
   "execution_count": 16,
   "metadata": {
    "collapsed": true
   },
   "outputs": [],
   "source": [
    "#creation of one array for all feautures and one array of all outputs\n",
    "X = []\n",
    "Y = []\n",
    "for X_ in X_s:\n",
    "    X.extend(X_)\n",
    "for Y_ in y_s:\n",
    "    Y.extend(Y_)\n",
    "X = np.array(X)\n",
    "Y = np.array(Y)"
   ]
  },
  {
   "cell_type": "code",
   "execution_count": 17,
   "metadata": {
    "collapsed": false
   },
   "outputs": [],
   "source": [
    "#random shuffling of data\n",
    "coeff = rand.sample(range(Y.size),Y.size);\n",
    "tempX = X;\n",
    "tempY = Y;\n",
    "X = np.zeros((tempX.shape[0],tempX.shape[1]));\n",
    "Y = np.zeros((Y.shape[0]));\n",
    "for i in range (0,len(coeff)):\n",
    "    X[i,:] = tempX[coeff[i],:];\n",
    "    Y[i] = tempY[coeff[i]];"
   ]
  },
  {
   "cell_type": "code",
   "execution_count": 18,
   "metadata": {
    "collapsed": false
   },
   "outputs": [
    {
     "name": "stdout",
     "output_type": "stream",
     "text": [
      "[[ 0.50284429  0.49715571]\n",
      " [ 0.89688086  0.10311914]\n",
      " [ 0.48137052  0.51862948]\n",
      " ..., \n",
      " [ 0.84711523  0.15288477]\n",
      " [ 0.81629967  0.18370033]\n",
      " [ 0.35015311  0.64984689]]\n",
      "[[ 0.88294582  0.11705418]\n",
      " [ 0.92921953  0.07078047]\n",
      " [ 0.45647288  0.54352712]\n",
      " ..., \n",
      " [ 0.81302562  0.18697438]\n",
      " [ 0.73788143  0.26211857]\n",
      " [ 0.90807787  0.09192213]]\n",
      "[[ 0.50391898  0.49608102]\n",
      " [ 0.60582036  0.39417964]\n",
      " [ 0.79155026  0.20844974]\n",
      " ..., \n",
      " [ 0.96389047  0.03610953]\n",
      " [ 0.95932082  0.04067918]\n",
      " [ 0.83331793  0.16668207]]\n",
      "[[ 0.87932218  0.12067782]\n",
      " [ 0.3030715   0.6969285 ]\n",
      " [ 0.47734408  0.52265592]\n",
      " ..., \n",
      " [ 0.82657473  0.17342527]\n",
      " [ 0.70854677  0.29145323]\n",
      " [ 0.93958049  0.06041951]]\n",
      "[[ 0.94240532  0.05759468]\n",
      " [ 0.94633999  0.05366001]\n",
      " [ 0.63474845  0.36525155]\n",
      " ..., \n",
      " [ 0.58801072  0.41198928]\n",
      " [ 0.87162049  0.12837951]\n",
      " [ 0.53127483  0.46872517]]\n",
      "[[ 0.61169397  0.38830603]\n",
      " [ 0.17725345  0.82274655]\n",
      " [ 0.62415684  0.37584316]\n",
      " ..., \n",
      " [ 0.95655563  0.04344437]\n",
      " [ 0.83453523  0.16546477]\n",
      " [ 0.44775924  0.55224076]]\n",
      "[[ 0.41269029  0.58730971]\n",
      " [ 0.46718597  0.53281403]\n",
      " [ 0.82228377  0.17771623]\n",
      " ..., \n",
      " [ 0.85096197  0.14903803]\n",
      " [ 0.31347174  0.68652826]\n",
      " [ 0.95955601  0.04044399]]\n",
      "[[ 0.64248653  0.35751347]\n",
      " [ 0.56140061  0.43859939]\n",
      " [ 0.87690328  0.12309672]\n",
      " ..., \n",
      " [ 0.96427897  0.03572103]\n",
      " [ 0.79844582  0.20155418]\n",
      " [ 0.89228227  0.10771773]]\n",
      "[[ 0.81483942  0.18516058]\n",
      " [ 0.3259327   0.6740673 ]\n",
      " [ 0.44954061  0.55045939]\n",
      " ..., \n",
      " [ 0.96296724  0.03703276]\n",
      " [ 0.92613812  0.07386188]\n",
      " [ 0.94805732  0.05194268]]\n",
      "[[ 0.78986838  0.21013162]\n",
      " [ 0.86244902  0.13755098]\n",
      " [ 0.92498967  0.07501033]\n",
      " ..., \n",
      " [ 0.64196949  0.35803051]\n",
      " [ 0.70418892  0.29581108]\n",
      " [ 0.62216036  0.37783964]]\n"
     ]
    },
    {
     "data": {
      "image/png": "[encoded data removed]",
      "text/plain": [
       "<matplotlib.figure.Figure at 0x7fc39bcacda0>"
      ]
     },
     "metadata": {},
     "output_type": "display_data"
    }
   ],
   "source": [
    "#importing required libraries\n",
    "from scipy import interp\n",
    "import matplotlib.pyplot as plt\n",
    "from itertools import cycle\n",
    "from sklearn.metrics import roc_curve, auc\n",
    "from sklearn.model_selection import StratifiedKFold\n",
    "from sklearn.ensemble import GradientBoostingClassifier\n",
    "from sklearn.grid_search import GridSearchCV\n",
    "\n",
    "#Grid search\n",
    "est = GradientBoostingClassifier(n_estimators=50)\n",
    "param_grid = {'max_depth': [3, 4, 6],'max_features': [1.0, 0.7, 0.3]}\n",
    "gs_cv = GridSearchCV(est, param_grid)\n",
    "\n",
    "#training and creating AUC curve\n",
    "cv = StratifiedKFold(n_splits=10)\n",
    "classifier = gs_cv;\n",
    "\n",
    "tprs = []\n",
    "aucs = []\n",
    "mean_fpr = np.linspace(0, 1, 100)\n",
    "\n",
    "i = 0\n",
    "for train, test in cv.split(X,Y):\n",
    "    probas_ = classifier.fit(X[train], Y[train]).predict_proba(X[test])\n",
    "    print(probas_)\n",
    "    # Compute ROC curve and area the curve\n",
    "    fpr, tpr, thresholds = roc_curve(Y[test], probas_[:, 1])\n",
    "    tprs.append(interp(mean_fpr, fpr, tpr))\n",
    "    tprs[-1][0] = 0.0\n",
    "    roc_auc = auc(fpr, tpr)\n",
    "    aucs.append(roc_auc)\n",
    "    plt.plot(fpr, tpr, lw=1, alpha=0.3,\n",
    "             label='ROC fold %d (AUC = %0.2f)' % (i, roc_auc))\n",
    "\n",
    "    i += 1\n",
    "plt.plot([0, 1], [0, 1], linestyle='--', lw=2, color='r',\n",
    "         label='Luck', alpha=.8)\n",
    "\n",
    "mean_tpr = np.mean(tprs, axis=0)\n",
    "mean_tpr[-1] = 1.0\n",
    "mean_auc = auc(mean_fpr, mean_tpr)\n",
    "std_auc = np.std(aucs)\n",
    "plt.plot(mean_fpr, mean_tpr, color='b',\n",
    "         label=r'Mean ROC (AUC = %0.2f $\\pm$ %0.2f)' % (mean_auc, std_auc),\n",
    "         lw=2, alpha=.8)\n",
    "\n",
    "std_tpr = np.std(tprs, axis=0)\n",
    "tprs_upper = np.minimum(mean_tpr + std_tpr, 1)\n",
    "tprs_lower = np.maximum(mean_tpr - std_tpr, 0)\n",
    "plt.fill_between(mean_fpr, tprs_lower, tprs_upper, color='grey', alpha=.2,\n",
    "                 label=r'$\\pm$ 1 std. dev.')\n",
    "\n",
    "plt.xlim([-0.05, 1.05])\n",
    "plt.ylim([-0.05, 1.05])\n",
    "plt.xlabel('False Positive Rate')\n",
    "plt.ylabel('True Positive Rate')\n",
    "plt.title('Receiver operating characteristic example')\n",
    "plt.legend(loc=\"lower right\")\n",
    "plt.show()\n",
    "\n"
   ]
  }
 ],
 "metadata": {
  "kernelspec": {
   "display_name": "Python 3",
   "language": "python",
   "name": "python3"
  },
  "language_info": {
   "codemirror_mode": {
    "name": "ipython",
    "version": 3
   },
   "file_extension": ".py",
   "mimetype": "text/x-python",
   "name": "python",
   "nbconvert_exporter": "python",
   "pygments_lexer": "ipython3",
   "version": "3.6.0"
  }
 },
 "nbformat": 4,
 "nbformat_minor": 2
}
